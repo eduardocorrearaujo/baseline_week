{
 "cells": [
  {
   "cell_type": "markdown",
   "id": "85a8346f-f21a-4237-adaf-0e3931f3e5da",
   "metadata": {},
   "source": [
    "Proper normalizing the data; \n",
    "\n",
    "\n",
    "Model using just the time series of cases. That's is a model using: \n",
    "\n",
    "- Week number;\n",
    "- Total cases in the last year;\n",
    "- Number of cases in the last week;\n",
    "- Number of susceptible persons (ofsset populacional);\n",
    "- Limiar 0 ou 1 como definição do el nino. Mas acho que aqui entra o problema da definição para o ano anterior ou vigente. \n",
    "Ai aqui eu posso decidir se uso dois anos, 3 anos anteriores para definir o próximo.\n",
    "\n",
    "Vou ter que ver se vou fazer isso para a série com o objetivo de usar um modelo global ou se uso as regionais/macro com input para prever os casos na semana como output.\n",
    "\n"
   ]
  },
  {
   "cell_type": "markdown",
   "id": "9d57b3af-926f-49fd-9604-9f08554b2153",
   "metadata": {},
   "source": [
    "## Fazer primeiro só para o estado total e depois pensar em como generalizar\n",
    "\n",
    "* Acho que uma boa generalização pode ser pelas **regionais** de saúde. "
   ]
  },
  {
   "cell_type": "code",
   "execution_count": 1,
   "id": "750cef91-a0f2-4043-8b1a-78a793a1673c",
   "metadata": {},
   "outputs": [],
   "source": [
    "import numpy as np\n",
    "import pandas as pd\n",
    "from epiweeks import Week\n",
    "from itertools import product\n",
    "import matplotlib.pyplot as plt \n",
    "import matplotlib.gridspec as gridspec"
   ]
  },
  {
   "cell_type": "code",
   "execution_count": 2,
   "id": "20647fb3-75ef-4b49-bdbc-0db278c91603",
   "metadata": {},
   "outputs": [],
   "source": [
    "def transform_label(ep_label): \n",
    "    year_ep_label = int(ep_label[:4])\n",
    "    week_ep_label = int(ep_label[4:])\n",
    "    \n",
    "    if week_ep_label <=40:\n",
    "        new_week = 12 + week_ep_label\n",
    "        new_year = year_ep_label\n",
    "    \n",
    "    else:\n",
    "        new_week = week_ep_label - 40\n",
    "        new_year = year_ep_label +1\n",
    "    \n",
    "    if new_week <=9:\n",
    "        week_str = f'0{new_week}'\n",
    "    else:\n",
    "        week_str = str(new_week)\n",
    "\n",
    "    new_ep_label = f'{new_year}{week_str}'\n",
    "\n",
    "    return new_ep_label\n"
   ]
  },
  {
   "cell_type": "code",
   "execution_count": 3,
   "id": "429c431f-db06-43ba-9286-a5efec309979",
   "metadata": {},
   "outputs": [],
   "source": [
    "state = 'MG'"
   ]
  },
  {
   "cell_type": "code",
   "execution_count": 4,
   "id": "a082426a-f896-4fb5-81d4-45a5d34c9a52",
   "metadata": {},
   "outputs": [
    {
     "data": {
      "text/html": [
       "<div>\n",
       "<style scoped>\n",
       "    .dataframe tbody tr th:only-of-type {\n",
       "        vertical-align: middle;\n",
       "    }\n",
       "\n",
       "    .dataframe tbody tr th {\n",
       "        vertical-align: top;\n",
       "    }\n",
       "\n",
       "    .dataframe thead th {\n",
       "        text-align: right;\n",
       "    }\n",
       "</style>\n",
       "<table border=\"1\" class=\"dataframe\">\n",
       "  <thead>\n",
       "    <tr style=\"text-align: right;\">\n",
       "      <th></th>\n",
       "      <th>casos</th>\n",
       "      <th>epiweek_label</th>\n",
       "      <th>epiweek</th>\n",
       "      <th>year</th>\n",
       "    </tr>\n",
       "    <tr>\n",
       "      <th>date</th>\n",
       "      <th></th>\n",
       "      <th></th>\n",
       "      <th></th>\n",
       "      <th></th>\n",
       "    </tr>\n",
       "  </thead>\n",
       "  <tbody>\n",
       "    <tr>\n",
       "      <th>2010-01-03</th>\n",
       "      <td>2794</td>\n",
       "      <td>201013</td>\n",
       "      <td>13</td>\n",
       "      <td>2010</td>\n",
       "    </tr>\n",
       "    <tr>\n",
       "      <th>2010-01-10</th>\n",
       "      <td>3729</td>\n",
       "      <td>201014</td>\n",
       "      <td>14</td>\n",
       "      <td>2010</td>\n",
       "    </tr>\n",
       "    <tr>\n",
       "      <th>2010-01-17</th>\n",
       "      <td>4656</td>\n",
       "      <td>201015</td>\n",
       "      <td>15</td>\n",
       "      <td>2010</td>\n",
       "    </tr>\n",
       "    <tr>\n",
       "      <th>2010-01-24</th>\n",
       "      <td>6195</td>\n",
       "      <td>201016</td>\n",
       "      <td>16</td>\n",
       "      <td>2010</td>\n",
       "    </tr>\n",
       "    <tr>\n",
       "      <th>2010-01-31</th>\n",
       "      <td>7179</td>\n",
       "      <td>201017</td>\n",
       "      <td>17</td>\n",
       "      <td>2010</td>\n",
       "    </tr>\n",
       "  </tbody>\n",
       "</table>\n",
       "</div>"
      ],
      "text/plain": [
       "            casos epiweek_label  epiweek  year\n",
       "date                                          \n",
       "2010-01-03   2794        201013       13  2010\n",
       "2010-01-10   3729        201014       14  2010\n",
       "2010-01-17   4656        201015       15  2010\n",
       "2010-01-24   6195        201016       16  2010\n",
       "2010-01-31   7179        201017       17  2010"
      ]
     },
     "execution_count": 4,
     "metadata": {},
     "output_type": "execute_result"
    }
   ],
   "source": [
    "df = pd.read_csv('./data/dengue.csv.gz')\n",
    "\n",
    "df = df.loc[df.uf == 'MG']\n",
    "\n",
    "df.date = pd.to_datetime(df.date)\n",
    "\n",
    "df.set_index('date', inplace = True)\n",
    "\n",
    "df_w = df[['casos']]\n",
    "\n",
    "df_w = df_w.resample('W-SUN').sum()\n",
    "\n",
    "df_w['epiweek_label'] = [Week.fromdate(x) for x in df_w.index]\n",
    "\n",
    "df_w['epiweek_label'] = df_w['epiweek_label'].astype(str)\n",
    "\n",
    "df_w['epiweek_label'] = df_w['epiweek_label'].apply(transform_label)\n",
    "\n",
    "\n",
    "df_w['epiweek'] = df_w['epiweek_label'].astype(str).str[-2:].astype(int)\n",
    "df_w['year'] = df_w['epiweek_label'].astype(str).str[:4].astype(int)\n",
    "\n",
    " \n",
    "df_w.head()"
   ]
  },
  {
   "cell_type": "code",
   "execution_count": 5,
   "id": "ab61bec5-dfb3-4cef-9308-18c9f7c4d1fc",
   "metadata": {},
   "outputs": [
    {
     "data": {
      "text/plain": [
       "<Axes: xlabel='date'>"
      ]
     },
     "execution_count": 5,
     "metadata": {},
     "output_type": "execute_result"
    },
    {
     "data": {
      "image/png": "[encoded data removed]",
      "text/plain": [
       "<Figure size 640x480 with 1 Axes>"
      ]
     },
     "metadata": {},
     "output_type": "display_data"
    }
   ],
   "source": [
    "df_w['casos'].plot()"
   ]
  },
  {
   "cell_type": "code",
   "execution_count": 6,
   "id": "b6fee886-7bb1-42b4-b71f-9f39bbb274d7",
   "metadata": {},
   "outputs": [
    {
     "data": {
      "text/html": [
       "<div>\n",
       "<style scoped>\n",
       "    .dataframe tbody tr th:only-of-type {\n",
       "        vertical-align: middle;\n",
       "    }\n",
       "\n",
       "    .dataframe tbody tr th {\n",
       "        vertical-align: top;\n",
       "    }\n",
       "\n",
       "    .dataframe thead th {\n",
       "        text-align: right;\n",
       "    }\n",
       "</style>\n",
       "<table border=\"1\" class=\"dataframe\">\n",
       "  <thead>\n",
       "    <tr style=\"text-align: right;\">\n",
       "      <th></th>\n",
       "      <th>casos</th>\n",
       "      <th>epiweek_label</th>\n",
       "      <th>epiweek</th>\n",
       "      <th>year</th>\n",
       "      <th>casos_totais</th>\n",
       "    </tr>\n",
       "    <tr>\n",
       "      <th>date</th>\n",
       "      <th></th>\n",
       "      <th></th>\n",
       "      <th></th>\n",
       "      <th></th>\n",
       "      <th></th>\n",
       "    </tr>\n",
       "  </thead>\n",
       "  <tbody>\n",
       "    <tr>\n",
       "      <th>2010-01-03</th>\n",
       "      <td>2794</td>\n",
       "      <td>201013</td>\n",
       "      <td>13</td>\n",
       "      <td>2010</td>\n",
       "      <td>258066</td>\n",
       "    </tr>\n",
       "    <tr>\n",
       "      <th>2010-01-10</th>\n",
       "      <td>3729</td>\n",
       "      <td>201014</td>\n",
       "      <td>14</td>\n",
       "      <td>2010</td>\n",
       "      <td>258066</td>\n",
       "    </tr>\n",
       "    <tr>\n",
       "      <th>2010-01-17</th>\n",
       "      <td>4656</td>\n",
       "      <td>201015</td>\n",
       "      <td>15</td>\n",
       "      <td>2010</td>\n",
       "      <td>258066</td>\n",
       "    </tr>\n",
       "    <tr>\n",
       "      <th>2010-01-24</th>\n",
       "      <td>6195</td>\n",
       "      <td>201016</td>\n",
       "      <td>16</td>\n",
       "      <td>2010</td>\n",
       "      <td>258066</td>\n",
       "    </tr>\n",
       "    <tr>\n",
       "      <th>2010-01-31</th>\n",
       "      <td>7179</td>\n",
       "      <td>201017</td>\n",
       "      <td>17</td>\n",
       "      <td>2010</td>\n",
       "      <td>258066</td>\n",
       "    </tr>\n",
       "  </tbody>\n",
       "</table>\n",
       "</div>"
      ],
      "text/plain": [
       "            casos epiweek_label  epiweek  year casos_totais\n",
       "date                                                       \n",
       "2010-01-03   2794        201013       13  2010       258066\n",
       "2010-01-10   3729        201014       14  2010       258066\n",
       "2010-01-17   4656        201015       15  2010       258066\n",
       "2010-01-24   6195        201016       16  2010       258066\n",
       "2010-01-31   7179        201017       17  2010       258066"
      ]
     },
     "execution_count": 6,
     "metadata": {},
     "output_type": "execute_result"
    }
   ],
   "source": [
    "df_w['casos_totais'] = pd.NA\n",
    "\n",
    "for year in df_w.year.unique():\n",
    "\n",
    "    df_w.loc[df_w.year == year, 'casos_totais'] = df_w.loc[(df_w.year == year)].casos.sum()\n",
    "\n",
    "\n",
    "df_w.head()"
   ]
  },
  {
   "cell_type": "markdown",
   "id": "5d795d79-0168-4c15-ac72-4055e9f65a37",
   "metadata": {},
   "source": [
    "df_w['enso'] = pd.NA\n",
    "\n",
    "[2012, 'La Niña'],\n",
    "       [2013, 'La Niña'],\n",
    "       [2014, 'La Niña'],\n",
    "       [2015, 'El Niño'],\n",
    "       [2016, 'El Niño'],\n",
    "       [2017, 'La Niña'],\n",
    "       [2018, 'La Niña'],\n",
    "       [2019, 'El Niño'],\n",
    "       [2020, 'El Niño'],\n",
    "       [2021, 'La Niña'],\n",
    "       [2022, 'La Niña'],\n",
    "       [2023, 'La Niña']"
   ]
  },
  {
   "cell_type": "markdown",
   "id": "bc74a8af-48e3-4190-8b22-0982463f6651",
   "metadata": {},
   "source": [
    "Testar o modelo para 2019 e para 2022. "
   ]
  },
  {
   "cell_type": "code",
   "execution_count": 7,
   "id": "a960cf50-3cb4-4bcb-8bfc-761a39c2438f",
   "metadata": {},
   "outputs": [],
   "source": [
    "def get_train_data(df_w_train): \n",
    "\n",
    "    columns_to_normalize = ['casos', 'epiweek', 'casos_totais']\n",
    "\n",
    "    norm_values = df_w_train.max()[columns_to_normalize]\n",
    "    \n",
    "\n",
    "    df_w_train[['casos', 'epiweek', 'casos_totais']] = df_w_train[['casos', 'epiweek', 'casos_totais']]/norm_values\n",
    "    \n",
    "    min_year = df_w_train.index.year.min() + 2\n",
    "\n",
    "    if min_year <=2012:\n",
    "        min_year = 2013\n",
    "\n",
    "    X_train = np.empty((0, 2, 3))\n",
    "    \n",
    "    y_train = np.empty((0, 1))\n",
    "        \n",
    "    for year, week in product(np.arange(min_year, df_w_train.index.year.max()), np.arange(1,53)): \n",
    "        \n",
    "        if week <=9:\n",
    "            week_str = f'0{week}'\n",
    "        else:\n",
    "            week_str = str(week)\n",
    "        try:\n",
    "            last_2 = np.array([df_w_train.loc[(df_w_train.epiweek_label == f'{year-2}{week_str}')][['epiweek', 'casos', 'casos_totais']].values[0]]).reshape(1, 1,-1)\n",
    "        \n",
    "            last_1 = np.array([df_w_train.loc[(df_w_train.epiweek_label == f'{year-1}{week_str}')][['epiweek', 'casos', 'casos_totais']].values[0]]).reshape(1, 1,-1)\n",
    "        \n",
    "            last_values = np.array(np.append(last_2, last_1, axis=1))\n",
    "                \n",
    "            X_train = np.append(X_train, last_values, axis = 0)\n",
    "        \n",
    "            y_train = np.append(y_train, np.array([df_w_train.loc[(df_w_train.epiweek_label == f'{year}{week_str}')][['casos']].values[0]]).reshape(1,-1),\n",
    "                               axis = 0)\n",
    "\n",
    "        except:\n",
    "            print(year)\n",
    "            print(week)\n",
    "            pass \n",
    "            \n",
    "\n",
    "    return X_train.astype(np.float32), y_train.astype(np.float32), norm_values \n",
    "\n",
    "\n",
    "def get_test_data(norm_values, df_w_test):\n",
    "    '''\n",
    "    Essa função gera os dados de teste apenas para uma ano específico. \n",
    "    '''\n",
    "\n",
    "    norm_values = norm_values[['casos', 'epiweek', 'casos_totais']]\n",
    "\n",
    "    df_w_test[['casos', 'epiweek', 'casos_totais']] = df_w_test[['casos', 'epiweek', 'casos_totais']]/norm_values\n",
    "\n",
    "    year  = df_w_test.index.year.max()\n",
    "\n",
    "    X_test = np.empty((0, 2, 3))\n",
    "    \n",
    "    y_test = np.empty((0, 1))\n",
    "        \n",
    "    for week in np.arange(1,53):\n",
    "\n",
    "        if week <=9:\n",
    "            week_str = f'0{week}'\n",
    "        else:\n",
    "            week_str = str(week)\n",
    "            \n",
    "        try:\n",
    "            last_2 = np.array([df_w_test.loc[(df_w_test.epiweek_label == f'{year-2}{week_str}')][['epiweek', 'casos', 'casos_totais']].values[0]]).reshape(1, 1,-1)\n",
    "            \n",
    "            last_1 = np.array([df_w_test.loc[(df_w_test.epiweek_label == f'{year-1}{week_str}')][['epiweek', 'casos', 'casos_totais']].values[0]]).reshape(1, 1,-1)\n",
    "            \n",
    "            last_values = np.array(np.append(last_2, last_1, axis=1))\n",
    "                    \n",
    "            X_test = np.append(X_test, last_values, axis = 0)\n",
    "            \n",
    "            y_test = np.append(y_test, np.array([df_w_test.loc[(df_w_test.epiweek_label == f'{year}{week_str}')][['casos']].values[0]]).reshape(1,-1),\n",
    "                                   axis = 0)\n",
    "        except: \n",
    "            pass\n",
    "\n",
    "    return X_test.astype(np.float32), y_test.astype(np.float32)\n",
    "    \n",
    "    "
   ]
  },
  {
   "cell_type": "code",
   "execution_count": 8,
   "id": "59f27b1c-20bc-4faf-b89f-7e8347741dbd",
   "metadata": {},
   "outputs": [
    {
     "data": {
      "text/plain": [
       "casos             int64\n",
       "epiweek_label    object\n",
       "epiweek           int64\n",
       "year              int64\n",
       "casos_totais     object\n",
       "dtype: object"
      ]
     },
     "execution_count": 8,
     "metadata": {},
     "output_type": "execute_result"
    }
   ],
   "source": [
    "df_w.dtypes"
   ]
  },
  {
   "cell_type": "code",
   "execution_count": 9,
   "id": "8c78dc58-772b-41da-ab8d-977ea70ce000",
   "metadata": {},
   "outputs": [
    {
     "data": {
      "text/html": [
       "<div>\n",
       "<style scoped>\n",
       "    .dataframe tbody tr th:only-of-type {\n",
       "        vertical-align: middle;\n",
       "    }\n",
       "\n",
       "    .dataframe tbody tr th {\n",
       "        vertical-align: top;\n",
       "    }\n",
       "\n",
       "    .dataframe thead th {\n",
       "        text-align: right;\n",
       "    }\n",
       "</style>\n",
       "<table border=\"1\" class=\"dataframe\">\n",
       "  <thead>\n",
       "    <tr style=\"text-align: right;\">\n",
       "      <th></th>\n",
       "      <th>casos</th>\n",
       "      <th>epiweek</th>\n",
       "      <th>casos_totais</th>\n",
       "    </tr>\n",
       "    <tr>\n",
       "      <th>date</th>\n",
       "      <th></th>\n",
       "      <th></th>\n",
       "      <th></th>\n",
       "    </tr>\n",
       "  </thead>\n",
       "  <tbody>\n",
       "    <tr>\n",
       "      <th>2010-01-03</th>\n",
       "      <td>0.020855</td>\n",
       "      <td>0.25</td>\n",
       "      <td>0.160248</td>\n",
       "    </tr>\n",
       "    <tr>\n",
       "      <th>2010-01-10</th>\n",
       "      <td>0.027834</td>\n",
       "      <td>0.269231</td>\n",
       "      <td>0.160248</td>\n",
       "    </tr>\n",
       "    <tr>\n",
       "      <th>2010-01-17</th>\n",
       "      <td>0.034754</td>\n",
       "      <td>0.288462</td>\n",
       "      <td>0.160248</td>\n",
       "    </tr>\n",
       "    <tr>\n",
       "      <th>2010-01-24</th>\n",
       "      <td>0.046241</td>\n",
       "      <td>0.307692</td>\n",
       "      <td>0.160248</td>\n",
       "    </tr>\n",
       "    <tr>\n",
       "      <th>2010-01-31</th>\n",
       "      <td>0.053586</td>\n",
       "      <td>0.326923</td>\n",
       "      <td>0.160248</td>\n",
       "    </tr>\n",
       "    <tr>\n",
       "      <th>...</th>\n",
       "      <td>...</td>\n",
       "      <td>...</td>\n",
       "      <td>...</td>\n",
       "    </tr>\n",
       "    <tr>\n",
       "      <th>2024-05-05</th>\n",
       "      <td>0.249293</td>\n",
       "      <td>0.596154</td>\n",
       "      <td>1.0</td>\n",
       "    </tr>\n",
       "    <tr>\n",
       "      <th>2024-05-12</th>\n",
       "      <td>0.174321</td>\n",
       "      <td>0.615385</td>\n",
       "      <td>1.0</td>\n",
       "    </tr>\n",
       "    <tr>\n",
       "      <th>2024-05-19</th>\n",
       "      <td>0.107829</td>\n",
       "      <td>0.634615</td>\n",
       "      <td>1.0</td>\n",
       "    </tr>\n",
       "    <tr>\n",
       "      <th>2024-05-26</th>\n",
       "      <td>0.043129</td>\n",
       "      <td>0.653846</td>\n",
       "      <td>1.0</td>\n",
       "    </tr>\n",
       "    <tr>\n",
       "      <th>2024-06-02</th>\n",
       "      <td>0.009808</td>\n",
       "      <td>0.673077</td>\n",
       "      <td>1.0</td>\n",
       "    </tr>\n",
       "  </tbody>\n",
       "</table>\n",
       "<p>753 rows × 3 columns</p>\n",
       "</div>"
      ],
      "text/plain": [
       "               casos   epiweek casos_totais\n",
       "date                                       \n",
       "2010-01-03  0.020855      0.25     0.160248\n",
       "2010-01-10  0.027834  0.269231     0.160248\n",
       "2010-01-17  0.034754  0.288462     0.160248\n",
       "2010-01-24  0.046241  0.307692     0.160248\n",
       "2010-01-31  0.053586  0.326923     0.160248\n",
       "...              ...       ...          ...\n",
       "2024-05-05  0.249293  0.596154          1.0\n",
       "2024-05-12  0.174321  0.615385          1.0\n",
       "2024-05-19  0.107829  0.634615          1.0\n",
       "2024-05-26  0.043129  0.653846          1.0\n",
       "2024-06-02  0.009808  0.673077          1.0\n",
       "\n",
       "[753 rows x 3 columns]"
      ]
     },
     "execution_count": 9,
     "metadata": {},
     "output_type": "execute_result"
    }
   ],
   "source": [
    "df_w[['casos', 'epiweek', 'casos_totais']]/df_w.max()[['casos', 'epiweek', 'casos_totais']]"
   ]
  },
  {
   "cell_type": "code",
   "execution_count": 10,
   "id": "505a852c-928b-4e98-a3be-508c1eea1557",
   "metadata": {},
   "outputs": [
    {
     "data": {
      "text/plain": [
       "casos            133971\n",
       "epiweek              52\n",
       "casos_totais    1610415\n",
       "dtype: object"
      ]
     },
     "execution_count": 10,
     "metadata": {},
     "output_type": "execute_result"
    }
   ],
   "source": [
    "df_w.max()[['casos', 'epiweek', 'casos_totais']]"
   ]
  },
  {
   "cell_type": "code",
   "execution_count": 11,
   "id": "528c1ad9-6822-4165-b642-54e9c2fc163c",
   "metadata": {},
   "outputs": [
    {
     "name": "stderr",
     "output_type": "stream",
     "text": [
      "/var/folders/ch/kxpr39wx44v97968yr_4hmch0000gn/T/ipykernel_25757/4133917290.py:8: SettingWithCopyWarning: \n",
      "A value is trying to be set on a copy of a slice from a DataFrame.\n",
      "Try using .loc[row_indexer,col_indexer] = value instead\n",
      "\n",
      "See the caveats in the documentation: https://pandas.pydata.org/pandas-docs/stable/user_guide/indexing.html#returning-a-view-versus-a-copy\n",
      "  df_w_train[['casos', 'epiweek', 'casos_totais']] = df_w_train[['casos', 'epiweek', 'casos_totais']]/norm_values\n"
     ]
    }
   ],
   "source": [
    "X_train, y_train, norm_values = get_train_data(df_w.loc[df_w.year < 2023])"
   ]
  },
  {
   "cell_type": "code",
   "execution_count": 12,
   "id": "c7e41a77-549e-490c-8796-07dc6c2deff7",
   "metadata": {},
   "outputs": [
    {
     "name": "stderr",
     "output_type": "stream",
     "text": [
      "/var/folders/ch/kxpr39wx44v97968yr_4hmch0000gn/T/ipykernel_25757/4133917290.py:53: SettingWithCopyWarning: \n",
      "A value is trying to be set on a copy of a slice from a DataFrame.\n",
      "Try using .loc[row_indexer,col_indexer] = value instead\n",
      "\n",
      "See the caveats in the documentation: https://pandas.pydata.org/pandas-docs/stable/user_guide/indexing.html#returning-a-view-versus-a-copy\n",
      "  df_w_test[['casos', 'epiweek', 'casos_totais']] = df_w_test[['casos', 'epiweek', 'casos_totais']]/norm_values\n"
     ]
    }
   ],
   "source": [
    "X_test, y_test = get_test_data(norm_values, df_w.loc[df_w.year <= 2023])"
   ]
  },
  {
   "cell_type": "markdown",
   "id": "739bbb47-3a78-4814-8f72-00c4e539d382",
   "metadata": {},
   "source": [
    "### Model"
   ]
  },
  {
   "cell_type": "code",
   "execution_count": 13,
   "id": "6fbec037-62a9-438c-bf7f-12938f006f9f",
   "metadata": {},
   "outputs": [],
   "source": [
    "from time import time\n",
    "import tensorflow as tf\n",
    "from keras import layers\n",
    "import keras.backend as K\n",
    "import tensorflow.keras as keras\n",
    "from tensorflow.keras.layers import LSTM, Attention, Dense, Dropout, Bidirectional, Flatten, Conv1D, Concatenate #, ConvLSTM1D, TimeDistributed\n",
    "from tensorflow.keras.utils import plot_model\n",
    "from sklearn.model_selection import train_test_split\n",
    "from sklearn.metrics import mean_absolute_error, explained_variance_score, mean_squared_error, mean_squared_log_error, \\\n",
    "    median_absolute_error, r2_score\n",
    "from tensorflow.keras import regularizers\n",
    "from tensorflow.keras.callbacks import TensorBoard, EarlyStopping, LearningRateScheduler\n",
    "from tensorflow.keras.activations import gelu \n",
    "from keras.optimizers import Adam#, RMSprop"
   ]
  },
  {
   "cell_type": "code",
   "execution_count": 14,
   "id": "5730a64a-e7cf-4848-813b-f2ee5e5f7a62",
   "metadata": {},
   "outputs": [],
   "source": [
    "def build_baseline( hidden=8, features=100, predict_n=4, look_back=4, loss='msle', optimizer = 'adam',  stateful = False, batch_size = 1):\n",
    "\n",
    "    inp = keras.Input(\n",
    "        #shape=(look_back, features),\n",
    "        batch_shape=(batch_size, look_back, features)\n",
    "    )\n",
    "\n",
    "    x = LSTM(\n",
    "        hidden,\n",
    "        input_shape=(look_back, features),\n",
    "        stateful = stateful,\n",
    "        \n",
    "        return_sequences=True,\n",
    "    )(inp, training=True)\n",
    "\n",
    "    x = Dropout(0.2, name='dropout_3')(x, training=True)  \n",
    "\n",
    "    x = LSTM(\n",
    "        hidden,\n",
    "        input_shape=(look_back, features),\n",
    "        stateful = stateful,\n",
    "        activation = gelu, \n",
    "        \n",
    "        return_sequences=False,\n",
    "    )(inp, training=True)\n",
    "\n",
    "\n",
    "    x = Dropout(0.2)(x, training=True)    \n",
    "\n",
    "    x = LSTM(\n",
    "        hidden,\n",
    "        input_shape=(look_back, features),\n",
    "        stateful = stateful,\n",
    "        activation = gelu, \n",
    "        \n",
    "        return_sequences=False,\n",
    "    )(inp, training=True)\n",
    "\n",
    "\n",
    "    x = Dropout(0.2)(x, training=True)    \n",
    "        \n",
    "    out = Dense(\n",
    "        predict_n,\n",
    "        activation='relu'\n",
    "    )(x)\n",
    "        #activity_regularizer=regularizers.L2(l2) )(x)\n",
    "    model = keras.Model(inp, out)\n",
    "\n",
    "    model.compile(loss=loss, optimizer=optimizer, metrics=[\"accuracy\", \"mape\", \"mse\"])\n",
    "    print(model.summary())\n",
    "    return model"
   ]
  },
  {
   "cell_type": "code",
   "execution_count": 15,
   "id": "4f0cd769-3d11-4ccb-9ffe-c3e337a4a3b6",
   "metadata": {},
   "outputs": [
    {
     "data": {
      "text/plain": [
       "(468, 2, 3)"
      ]
     },
     "execution_count": 15,
     "metadata": {},
     "output_type": "execute_result"
    }
   ],
   "source": [
    "X_train.shape"
   ]
  },
  {
   "cell_type": "code",
   "execution_count": 16,
   "id": "95b7e76e-f523-458d-aaf4-f79f3e3b2c5d",
   "metadata": {},
   "outputs": [
    {
     "name": "stderr",
     "output_type": "stream",
     "text": [
      "/opt/homebrew/Caskroom/miniforge/base/envs/use_tensorflow/lib/python3.10/site-packages/keras/src/layers/rnn/rnn.py:204: UserWarning: Do not pass an `input_shape`/`input_dim` argument to a layer. When using Sequential models, prefer using an `Input(shape)` object as the first layer in the model instead.\n",
      "  super().__init__(**kwargs)\n"
     ]
    },
    {
     "data": {
      "text/html": [
       "<pre style=\"white-space:pre;overflow-x:auto;line-height:normal;font-family:Menlo,'DejaVu Sans Mono',consolas,'Courier New',monospace\"><span style=\"font-weight: bold\">Model: \"functional_1\"</span>\n",
       "</pre>\n"
      ],
      "text/plain": [
       "\u001b[1mModel: \"functional_1\"\u001b[0m\n"
      ]
     },
     "metadata": {},
     "output_type": "display_data"
    },
    {
     "data": {
      "text/html": [
       "<pre style=\"white-space:pre;overflow-x:auto;line-height:normal;font-family:Menlo,'DejaVu Sans Mono',consolas,'Courier New',monospace\">┏━━━━━━━━━━━━━━━━━━━━━━━━━━━━━━━━━┳━━━━━━━━━━━━━━━━━━━━━━━━┳━━━━━━━━━━━━━━━┓\n",
       "┃<span style=\"font-weight: bold\"> Layer (type)                    </span>┃<span style=\"font-weight: bold\"> Output Shape           </span>┃<span style=\"font-weight: bold\">       Param # </span>┃\n",
       "┡━━━━━━━━━━━━━━━━━━━━━━━━━━━━━━━━━╇━━━━━━━━━━━━━━━━━━━━━━━━╇━━━━━━━━━━━━━━━┩\n",
       "│ input_layer (<span style=\"color: #0087ff; text-decoration-color: #0087ff\">InputLayer</span>)        │ (<span style=\"color: #00af00; text-decoration-color: #00af00\">1</span>, <span style=\"color: #00af00; text-decoration-color: #00af00\">2</span>, <span style=\"color: #00af00; text-decoration-color: #00af00\">3</span>)              │             <span style=\"color: #00af00; text-decoration-color: #00af00\">0</span> │\n",
       "├─────────────────────────────────┼────────────────────────┼───────────────┤\n",
       "│ lstm_2 (<span style=\"color: #0087ff; text-decoration-color: #0087ff\">LSTM</span>)                   │ (<span style=\"color: #00af00; text-decoration-color: #00af00\">1</span>, <span style=\"color: #00af00; text-decoration-color: #00af00\">128</span>)               │        <span style=\"color: #00af00; text-decoration-color: #00af00\">67,584</span> │\n",
       "├─────────────────────────────────┼────────────────────────┼───────────────┤\n",
       "│ dropout_1 (<span style=\"color: #0087ff; text-decoration-color: #0087ff\">Dropout</span>)             │ (<span style=\"color: #00af00; text-decoration-color: #00af00\">1</span>, <span style=\"color: #00af00; text-decoration-color: #00af00\">128</span>)               │             <span style=\"color: #00af00; text-decoration-color: #00af00\">0</span> │\n",
       "├─────────────────────────────────┼────────────────────────┼───────────────┤\n",
       "│ dense (<span style=\"color: #0087ff; text-decoration-color: #0087ff\">Dense</span>)                   │ (<span style=\"color: #00af00; text-decoration-color: #00af00\">1</span>, <span style=\"color: #00af00; text-decoration-color: #00af00\">1</span>)                 │           <span style=\"color: #00af00; text-decoration-color: #00af00\">129</span> │\n",
       "└─────────────────────────────────┴────────────────────────┴───────────────┘\n",
       "</pre>\n"
      ],
      "text/plain": [
       "┏━━━━━━━━━━━━━━━━━━━━━━━━━━━━━━━━━┳━━━━━━━━━━━━━━━━━━━━━━━━┳━━━━━━━━━━━━━━━┓\n",
       "┃\u001b[1m \u001b[0m\u001b[1mLayer (type)                   \u001b[0m\u001b[1m \u001b[0m┃\u001b[1m \u001b[0m\u001b[1mOutput Shape          \u001b[0m\u001b[1m \u001b[0m┃\u001b[1m \u001b[0m\u001b[1m      Param #\u001b[0m\u001b[1m \u001b[0m┃\n",
       "┡━━━━━━━━━━━━━━━━━━━━━━━━━━━━━━━━━╇━━━━━━━━━━━━━━━━━━━━━━━━╇━━━━━━━━━━━━━━━┩\n",
       "│ input_layer (\u001b[38;5;33mInputLayer\u001b[0m)        │ (\u001b[38;5;34m1\u001b[0m, \u001b[38;5;34m2\u001b[0m, \u001b[38;5;34m3\u001b[0m)              │             \u001b[38;5;34m0\u001b[0m │\n",
       "├─────────────────────────────────┼────────────────────────┼───────────────┤\n",
       "│ lstm_2 (\u001b[38;5;33mLSTM\u001b[0m)                   │ (\u001b[38;5;34m1\u001b[0m, \u001b[38;5;34m128\u001b[0m)               │        \u001b[38;5;34m67,584\u001b[0m │\n",
       "├─────────────────────────────────┼────────────────────────┼───────────────┤\n",
       "│ dropout_1 (\u001b[38;5;33mDropout\u001b[0m)             │ (\u001b[38;5;34m1\u001b[0m, \u001b[38;5;34m128\u001b[0m)               │             \u001b[38;5;34m0\u001b[0m │\n",
       "├─────────────────────────────────┼────────────────────────┼───────────────┤\n",
       "│ dense (\u001b[38;5;33mDense\u001b[0m)                   │ (\u001b[38;5;34m1\u001b[0m, \u001b[38;5;34m1\u001b[0m)                 │           \u001b[38;5;34m129\u001b[0m │\n",
       "└─────────────────────────────────┴────────────────────────┴───────────────┘\n"
      ]
     },
     "metadata": {},
     "output_type": "display_data"
    },
    {
     "data": {
      "text/html": [
       "<pre style=\"white-space:pre;overflow-x:auto;line-height:normal;font-family:Menlo,'DejaVu Sans Mono',consolas,'Courier New',monospace\"><span style=\"font-weight: bold\"> Total params: </span><span style=\"color: #00af00; text-decoration-color: #00af00\">67,713</span> (264.50 KB)\n",
       "</pre>\n"
      ],
      "text/plain": [
       "\u001b[1m Total params: \u001b[0m\u001b[38;5;34m67,713\u001b[0m (264.50 KB)\n"
      ]
     },
     "metadata": {},
     "output_type": "display_data"
    },
    {
     "data": {
      "text/html": [
       "<pre style=\"white-space:pre;overflow-x:auto;line-height:normal;font-family:Menlo,'DejaVu Sans Mono',consolas,'Courier New',monospace\"><span style=\"font-weight: bold\"> Trainable params: </span><span style=\"color: #00af00; text-decoration-color: #00af00\">67,713</span> (264.50 KB)\n",
       "</pre>\n"
      ],
      "text/plain": [
       "\u001b[1m Trainable params: \u001b[0m\u001b[38;5;34m67,713\u001b[0m (264.50 KB)\n"
      ]
     },
     "metadata": {},
     "output_type": "display_data"
    },
    {
     "data": {
      "text/html": [
       "<pre style=\"white-space:pre;overflow-x:auto;line-height:normal;font-family:Menlo,'DejaVu Sans Mono',consolas,'Courier New',monospace\"><span style=\"font-weight: bold\"> Non-trainable params: </span><span style=\"color: #00af00; text-decoration-color: #00af00\">0</span> (0.00 B)\n",
       "</pre>\n"
      ],
      "text/plain": [
       "\u001b[1m Non-trainable params: \u001b[0m\u001b[38;5;34m0\u001b[0m (0.00 B)\n"
      ]
     },
     "metadata": {},
     "output_type": "display_data"
    },
    {
     "name": "stdout",
     "output_type": "stream",
     "text": [
      "None\n"
     ]
    },
    {
     "data": {
      "text/plain": [
       "<Functional name=functional_1, built=True>"
      ]
     },
     "execution_count": 16,
     "metadata": {},
     "output_type": "execute_result"
    }
   ],
   "source": [
    "model = build_baseline( hidden=128,\n",
    "                       features=3, predict_n=1, look_back=2, loss='msle', optimizer = 'adam')\n",
    "\n",
    "model"
   ]
  },
  {
   "cell_type": "code",
   "execution_count": 17,
   "id": "afb849ec-5214-44da-9887-ab698d875d96",
   "metadata": {},
   "outputs": [],
   "source": [
    "TB_callback = TensorBoard(\n",
    "        log_dir=\"./tensorboard\",\n",
    "        histogram_freq=0,\n",
    "        write_graph=True,\n",
    "        write_images=True,\n",
    "        update_freq='epoch',\n",
    "        # embeddings_freq=10\n",
    "    )\n",
    "\n",
    "seed = 7\n",
    "epochs = 100\n",
    "verbose = 1\n",
    "monitor = 'loss'\n",
    "min_delta = 0\n",
    "patience = 20"
   ]
  },
  {
   "cell_type": "code",
   "execution_count": 18,
   "id": "2cd08f6b-2972-48ed-b8d4-8e2827f39e2f",
   "metadata": {
    "scrolled": true
   },
   "outputs": [
    {
     "name": "stdout",
     "output_type": "stream",
     "text": [
      "Epoch 1/100\n",
      "\u001b[1m468/468\u001b[0m \u001b[32m━━━━━━━━━━━━━━━━━━━━\u001b[0m\u001b[37m\u001b[0m \u001b[1m1s\u001b[0m 1ms/step - accuracy: 0.0000e+00 - loss: 0.0234 - mape: 457.1144 - mse: 0.0421\n",
      "Epoch 2/100\n",
      "\u001b[1m468/468\u001b[0m \u001b[32m━━━━━━━━━━━━━━━━━━━━\u001b[0m\u001b[37m\u001b[0m \u001b[1m1s\u001b[0m 1ms/step - accuracy: 0.0000e+00 - loss: 0.0160 - mape: 321.9008 - mse: 0.0302\n",
      "Epoch 3/100\n",
      "\u001b[1m468/468\u001b[0m \u001b[32m━━━━━━━━━━━━━━━━━━━━\u001b[0m\u001b[37m\u001b[0m \u001b[1m1s\u001b[0m 1ms/step - accuracy: 0.0000e+00 - loss: 0.0183 - mape: 304.8484 - mse: 0.0355\n",
      "Epoch 4/100\n",
      "\u001b[1m468/468\u001b[0m \u001b[32m━━━━━━━━━━━━━━━━━━━━\u001b[0m\u001b[37m\u001b[0m \u001b[1m1s\u001b[0m 1ms/step - accuracy: 0.0000e+00 - loss: 0.0140 - mape: 267.7303 - mse: 0.0259\n",
      "Epoch 5/100\n",
      "\u001b[1m468/468\u001b[0m \u001b[32m━━━━━━━━━━━━━━━━━━━━\u001b[0m\u001b[37m\u001b[0m \u001b[1m1s\u001b[0m 1ms/step - accuracy: 0.0000e+00 - loss: 0.0195 - mape: 324.9097 - mse: 0.0378\n",
      "Epoch 6/100\n",
      "\u001b[1m468/468\u001b[0m \u001b[32m━━━━━━━━━━━━━━━━━━━━\u001b[0m\u001b[37m\u001b[0m \u001b[1m1s\u001b[0m 1ms/step - accuracy: 0.0000e+00 - loss: 0.0139 - mape: 272.8723 - mse: 0.0252\n",
      "Epoch 7/100\n",
      "\u001b[1m468/468\u001b[0m \u001b[32m━━━━━━━━━━━━━━━━━━━━\u001b[0m\u001b[37m\u001b[0m \u001b[1m0s\u001b[0m 1ms/step - accuracy: 0.0000e+00 - loss: 0.0154 - mape: 338.0994 - mse: 0.0283\n",
      "Epoch 8/100\n",
      "\u001b[1m468/468\u001b[0m \u001b[32m━━━━━━━━━━━━━━━━━━━━\u001b[0m\u001b[37m\u001b[0m \u001b[1m1s\u001b[0m 1ms/step - accuracy: 0.0000e+00 - loss: 0.0164 - mape: 260.9068 - mse: 0.0316\n",
      "Epoch 9/100\n",
      "\u001b[1m468/468\u001b[0m \u001b[32m━━━━━━━━━━━━━━━━━━━━\u001b[0m\u001b[37m\u001b[0m \u001b[1m1s\u001b[0m 1ms/step - accuracy: 0.0000e+00 - loss: 0.0131 - mape: 266.6897 - mse: 0.0243\n",
      "Epoch 10/100\n",
      "\u001b[1m468/468\u001b[0m \u001b[32m━━━━━━━━━━━━━━━━━━━━\u001b[0m\u001b[37m\u001b[0m \u001b[1m1s\u001b[0m 1ms/step - accuracy: 0.0000e+00 - loss: 0.0113 - mape: 220.6884 - mse: 0.0215\n",
      "Epoch 11/100\n",
      "\u001b[1m468/468\u001b[0m \u001b[32m━━━━━━━━━━━━━━━━━━━━\u001b[0m\u001b[37m\u001b[0m \u001b[1m1s\u001b[0m 1ms/step - accuracy: 0.0000e+00 - loss: 0.0119 - mape: 199.2516 - mse: 0.0235\n",
      "Epoch 12/100\n",
      "\u001b[1m468/468\u001b[0m \u001b[32m━━━━━━━━━━━━━━━━━━━━\u001b[0m\u001b[37m\u001b[0m \u001b[1m1s\u001b[0m 1ms/step - accuracy: 0.0000e+00 - loss: 0.0099 - mape: 172.9859 - mse: 0.0193\n",
      "Epoch 13/100\n",
      "\u001b[1m468/468\u001b[0m \u001b[32m━━━━━━━━━━━━━━━━━━━━\u001b[0m\u001b[37m\u001b[0m \u001b[1m1s\u001b[0m 1ms/step - accuracy: 0.0000e+00 - loss: 0.0102 - mape: 152.5180 - mse: 0.0203\n",
      "Epoch 14/100\n",
      "\u001b[1m468/468\u001b[0m \u001b[32m━━━━━━━━━━━━━━━━━━━━\u001b[0m\u001b[37m\u001b[0m \u001b[1m1s\u001b[0m 1ms/step - accuracy: 0.0000e+00 - loss: 0.0086 - mape: 138.5213 - mse: 0.0174\n",
      "Epoch 15/100\n",
      "\u001b[1m468/468\u001b[0m \u001b[32m━━━━━━━━━━━━━━━━━━━━\u001b[0m\u001b[37m\u001b[0m \u001b[1m1s\u001b[0m 1ms/step - accuracy: 0.0000e+00 - loss: 0.0084 - mape: 143.1623 - mse: 0.0165\n",
      "Epoch 16/100\n",
      "\u001b[1m468/468\u001b[0m \u001b[32m━━━━━━━━━━━━━━━━━━━━\u001b[0m\u001b[37m\u001b[0m \u001b[1m1s\u001b[0m 1ms/step - accuracy: 0.0000e+00 - loss: 0.0071 - mape: 121.0618 - mse: 0.0145\n",
      "Epoch 17/100\n",
      "\u001b[1m468/468\u001b[0m \u001b[32m━━━━━━━━━━━━━━━━━━━━\u001b[0m\u001b[37m\u001b[0m \u001b[1m1s\u001b[0m 1ms/step - accuracy: 0.0000e+00 - loss: 0.0070 - mape: 103.4268 - mse: 0.0140\n",
      "Epoch 18/100\n",
      "\u001b[1m468/468\u001b[0m \u001b[32m━━━━━━━━━━━━━━━━━━━━\u001b[0m\u001b[37m\u001b[0m \u001b[1m1s\u001b[0m 1ms/step - accuracy: 0.0000e+00 - loss: 0.0065 - mape: 107.2067 - mse: 0.0131\n",
      "Epoch 19/100\n",
      "\u001b[1m468/468\u001b[0m \u001b[32m━━━━━━━━━━━━━━━━━━━━\u001b[0m\u001b[37m\u001b[0m \u001b[1m1s\u001b[0m 1ms/step - accuracy: 0.0000e+00 - loss: 0.0066 - mape: 107.7268 - mse: 0.0131\n",
      "Epoch 20/100\n",
      "\u001b[1m468/468\u001b[0m \u001b[32m━━━━━━━━━━━━━━━━━━━━\u001b[0m\u001b[37m\u001b[0m \u001b[1m1s\u001b[0m 1ms/step - accuracy: 0.0000e+00 - loss: 0.0064 - mape: 102.5400 - mse: 0.0124\n",
      "Epoch 21/100\n",
      "\u001b[1m468/468\u001b[0m \u001b[32m━━━━━━━━━━━━━━━━━━━━\u001b[0m\u001b[37m\u001b[0m \u001b[1m1s\u001b[0m 1ms/step - accuracy: 0.0000e+00 - loss: 0.0053 - mape: 107.4217 - mse: 0.0097\n",
      "Epoch 22/100\n",
      "\u001b[1m468/468\u001b[0m \u001b[32m━━━━━━━━━━━━━━━━━━━━\u001b[0m\u001b[37m\u001b[0m \u001b[1m1s\u001b[0m 1ms/step - accuracy: 0.0000e+00 - loss: 0.0051 - mape: 106.5869 - mse: 0.0098\n",
      "Epoch 23/100\n",
      "\u001b[1m468/468\u001b[0m \u001b[32m━━━━━━━━━━━━━━━━━━━━\u001b[0m\u001b[37m\u001b[0m \u001b[1m0s\u001b[0m 1ms/step - accuracy: 0.0000e+00 - loss: 0.0047 - mape: 99.8610 - mse: 0.0090\n",
      "Epoch 24/100\n",
      "\u001b[1m468/468\u001b[0m \u001b[32m━━━━━━━━━━━━━━━━━━━━\u001b[0m\u001b[37m\u001b[0m \u001b[1m1s\u001b[0m 1ms/step - accuracy: 0.0000e+00 - loss: 0.0050 - mape: 95.0241 - mse: 0.0097\n",
      "Epoch 25/100\n",
      "\u001b[1m468/468\u001b[0m \u001b[32m━━━━━━━━━━━━━━━━━━━━\u001b[0m\u001b[37m\u001b[0m \u001b[1m1s\u001b[0m 1ms/step - accuracy: 0.0000e+00 - loss: 0.0060 - mape: 100.0320 - mse: 0.0119\n",
      "Epoch 26/100\n",
      "\u001b[1m468/468\u001b[0m \u001b[32m━━━━━━━━━━━━━━━━━━━━\u001b[0m\u001b[37m\u001b[0m \u001b[1m1s\u001b[0m 1ms/step - accuracy: 0.0000e+00 - loss: 0.0060 - mape: 97.6405 - mse: 0.0120\n",
      "Epoch 27/100\n",
      "\u001b[1m468/468\u001b[0m \u001b[32m━━━━━━━━━━━━━━━━━━━━\u001b[0m\u001b[37m\u001b[0m \u001b[1m1s\u001b[0m 2ms/step - accuracy: 0.0000e+00 - loss: 0.0049 - mape: 98.0902 - mse: 0.0097\n",
      "Epoch 28/100\n",
      "\u001b[1m468/468\u001b[0m \u001b[32m━━━━━━━━━━━━━━━━━━━━\u001b[0m\u001b[37m\u001b[0m \u001b[1m1s\u001b[0m 1ms/step - accuracy: 0.0000e+00 - loss: 0.0046 - mape: 94.5780 - mse: 0.0091\n",
      "Epoch 29/100\n",
      "\u001b[1m468/468\u001b[0m \u001b[32m━━━━━━━━━━━━━━━━━━━━\u001b[0m\u001b[37m\u001b[0m \u001b[1m1s\u001b[0m 1ms/step - accuracy: 0.0026 - loss: 0.0045 - mape: 99.1540 - mse: 0.0090\n",
      "Epoch 30/100\n",
      "\u001b[1m468/468\u001b[0m \u001b[32m━━━━━━━━━━━━━━━━━━━━\u001b[0m\u001b[37m\u001b[0m \u001b[1m1s\u001b[0m 1ms/step - accuracy: 0.0000e+00 - loss: 0.0049 - mape: 100.2233 - mse: 0.0099\n",
      "Epoch 31/100\n",
      "\u001b[1m468/468\u001b[0m \u001b[32m━━━━━━━━━━━━━━━━━━━━\u001b[0m\u001b[37m\u001b[0m \u001b[1m1s\u001b[0m 1ms/step - accuracy: 0.0000e+00 - loss: 0.0037 - mape: 96.1262 - mse: 0.0069\n",
      "Epoch 32/100\n",
      "\u001b[1m468/468\u001b[0m \u001b[32m━━━━━━━━━━━━━━━━━━━━\u001b[0m\u001b[37m\u001b[0m \u001b[1m1s\u001b[0m 1ms/step - accuracy: 0.0000e+00 - loss: 0.0042 - mape: 93.6529 - mse: 0.0082\n",
      "Epoch 33/100\n",
      "\u001b[1m468/468\u001b[0m \u001b[32m━━━━━━━━━━━━━━━━━━━━\u001b[0m\u001b[37m\u001b[0m \u001b[1m1s\u001b[0m 1ms/step - accuracy: 2.8116e-04 - loss: 0.0042 - mape: 93.8902 - mse: 0.0078\n",
      "Epoch 34/100\n",
      "\u001b[1m468/468\u001b[0m \u001b[32m━━━━━━━━━━━━━━━━━━━━\u001b[0m\u001b[37m\u001b[0m \u001b[1m1s\u001b[0m 1ms/step - accuracy: 0.0000e+00 - loss: 0.0046 - mape: 91.8550 - mse: 0.0090\n",
      "Epoch 35/100\n",
      "\u001b[1m468/468\u001b[0m \u001b[32m━━━━━━━━━━━━━━━━━━━━\u001b[0m\u001b[37m\u001b[0m \u001b[1m1s\u001b[0m 1ms/step - accuracy: 0.0000e+00 - loss: 0.0043 - mape: 103.2673 - mse: 0.0083\n",
      "Epoch 36/100\n",
      "\u001b[1m468/468\u001b[0m \u001b[32m━━━━━━━━━━━━━━━━━━━━\u001b[0m\u001b[37m\u001b[0m \u001b[1m1s\u001b[0m 1ms/step - accuracy: 0.0000e+00 - loss: 0.0057 - mape: 97.3056 - mse: 0.0107\n",
      "Epoch 37/100\n",
      "\u001b[1m468/468\u001b[0m \u001b[32m━━━━━━━━━━━━━━━━━━━━\u001b[0m\u001b[37m\u001b[0m \u001b[1m1s\u001b[0m 1ms/step - accuracy: 0.0000e+00 - loss: 0.0055 - mape: 100.0142 - mse: 0.0112\n",
      "Epoch 38/100\n",
      "\u001b[1m468/468\u001b[0m \u001b[32m━━━━━━━━━━━━━━━━━━━━\u001b[0m\u001b[37m\u001b[0m \u001b[1m1s\u001b[0m 1ms/step - accuracy: 0.0000e+00 - loss: 0.0055 - mape: 95.3086 - mse: 0.0120\n",
      "Epoch 39/100\n",
      "\u001b[1m468/468\u001b[0m \u001b[32m━━━━━━━━━━━━━━━━━━━━\u001b[0m\u001b[37m\u001b[0m \u001b[1m1s\u001b[0m 1ms/step - accuracy: 0.0037 - loss: 0.0045 - mape: 93.4705 - mse: 0.0087\n",
      "Epoch 40/100\n",
      "\u001b[1m468/468\u001b[0m \u001b[32m━━━━━━━━━━━━━━━━━━━━\u001b[0m\u001b[37m\u001b[0m \u001b[1m1s\u001b[0m 1ms/step - accuracy: 0.0021 - loss: 0.0042 - mape: 93.2671 - mse: 0.0082\n",
      "Epoch 41/100\n",
      "\u001b[1m468/468\u001b[0m \u001b[32m━━━━━━━━━━━━━━━━━━━━\u001b[0m\u001b[37m\u001b[0m \u001b[1m1s\u001b[0m 1ms/step - accuracy: 3.1774e-04 - loss: 0.0038 - mape: 91.6708 - mse: 0.0083\n",
      "Epoch 42/100\n",
      "\u001b[1m468/468\u001b[0m \u001b[32m━━━━━━━━━━━━━━━━━━━━\u001b[0m\u001b[37m\u001b[0m \u001b[1m1s\u001b[0m 1ms/step - accuracy: 2.1484e-04 - loss: 0.0039 - mape: 94.1204 - mse: 0.0072\n",
      "Epoch 43/100\n",
      "\u001b[1m468/468\u001b[0m \u001b[32m━━━━━━━━━━━━━━━━━━━━\u001b[0m\u001b[37m\u001b[0m \u001b[1m1s\u001b[0m 1ms/step - accuracy: 0.0031 - loss: 0.0049 - mape: 94.2148 - mse: 0.0097\n",
      "Epoch 44/100\n",
      "\u001b[1m468/468\u001b[0m \u001b[32m━━━━━━━━━━━━━━━━━━━━\u001b[0m\u001b[37m\u001b[0m \u001b[1m1s\u001b[0m 1ms/step - accuracy: 0.0056 - loss: 0.0039 - mape: 92.7176 - mse: 0.0078\n",
      "Epoch 45/100\n",
      "\u001b[1m468/468\u001b[0m \u001b[32m━━━━━━━━━━━━━━━━━━━━\u001b[0m\u001b[37m\u001b[0m \u001b[1m1s\u001b[0m 1ms/step - accuracy: 0.0030 - loss: 0.0062 - mape: 97.7423 - mse: 0.0123\n",
      "Epoch 46/100\n",
      "\u001b[1m468/468\u001b[0m \u001b[32m━━━━━━━━━━━━━━━━━━━━\u001b[0m\u001b[37m\u001b[0m \u001b[1m1s\u001b[0m 1ms/step - accuracy: 0.0020 - loss: 0.0030 - mape: 92.1007 - mse: 0.0056\n",
      "Epoch 47/100\n",
      "\u001b[1m468/468\u001b[0m \u001b[32m━━━━━━━━━━━━━━━━━━━━\u001b[0m\u001b[37m\u001b[0m \u001b[1m1s\u001b[0m 1ms/step - accuracy: 2.4519e-04 - loss: 0.0044 - mape: 91.5041 - mse: 0.0084\n",
      "Epoch 48/100\n",
      "\u001b[1m468/468\u001b[0m \u001b[32m━━━━━━━━━━━━━━━━━━━━\u001b[0m\u001b[37m\u001b[0m \u001b[1m1s\u001b[0m 1ms/step - accuracy: 5.2228e-04 - loss: 0.0055 - mape: 104.2190 - mse: 0.0108\n",
      "Epoch 49/100\n",
      "\u001b[1m468/468\u001b[0m \u001b[32m━━━━━━━━━━━━━━━━━━━━\u001b[0m\u001b[37m\u001b[0m \u001b[1m1s\u001b[0m 1ms/step - accuracy: 0.0028 - loss: 0.0045 - mape: 92.2505 - mse: 0.0091\n",
      "Epoch 50/100\n",
      "\u001b[1m468/468\u001b[0m \u001b[32m━━━━━━━━━━━━━━━━━━━━\u001b[0m\u001b[37m\u001b[0m \u001b[1m1s\u001b[0m 1ms/step - accuracy: 4.1480e-04 - loss: 0.0042 - mape: 96.7619 - mse: 0.0080\n",
      "Epoch 51/100\n",
      "\u001b[1m468/468\u001b[0m \u001b[32m━━━━━━━━━━━━━━━━━━━━\u001b[0m\u001b[37m\u001b[0m \u001b[1m1s\u001b[0m 1ms/step - accuracy: 2.9676e-04 - loss: 0.0036 - mape: 94.7515 - mse: 0.0065\n",
      "Epoch 52/100\n",
      "\u001b[1m468/468\u001b[0m \u001b[32m━━━━━━━━━━━━━━━━━━━━\u001b[0m\u001b[37m\u001b[0m \u001b[1m1s\u001b[0m 1ms/step - accuracy: 0.0049 - loss: 0.0034 - mape: 92.5200 - mse: 0.0065\n",
      "Epoch 53/100\n",
      "\u001b[1m468/468\u001b[0m \u001b[32m━━━━━━━━━━━━━━━━━━━━\u001b[0m\u001b[37m\u001b[0m \u001b[1m1s\u001b[0m 1ms/step - accuracy: 0.0013 - loss: 0.0039 - mape: 91.1695 - mse: 0.0075\n",
      "Epoch 54/100\n",
      "\u001b[1m468/468\u001b[0m \u001b[32m━━━━━━━━━━━━━━━━━━━━\u001b[0m\u001b[37m\u001b[0m \u001b[1m1s\u001b[0m 1ms/step - accuracy: 0.0046 - loss: 0.0041 - mape: 92.0893 - mse: 0.0081\n",
      "Epoch 55/100\n",
      "\u001b[1m468/468\u001b[0m \u001b[32m━━━━━━━━━━━━━━━━━━━━\u001b[0m\u001b[37m\u001b[0m \u001b[1m1s\u001b[0m 1ms/step - accuracy: 5.5738e-04 - loss: 0.0036 - mape: 94.5291 - mse: 0.0069\n",
      "Epoch 56/100\n",
      "\u001b[1m468/468\u001b[0m \u001b[32m━━━━━━━━━━━━━━━━━━━━\u001b[0m\u001b[37m\u001b[0m \u001b[1m1s\u001b[0m 1ms/step - accuracy: 0.0018 - loss: 0.0042 - mape: 91.0204 - mse: 0.0085\n",
      "Epoch 57/100\n",
      "\u001b[1m468/468\u001b[0m \u001b[32m━━━━━━━━━━━━━━━━━━━━\u001b[0m\u001b[37m\u001b[0m \u001b[1m1s\u001b[0m 1ms/step - accuracy: 6.0509e-04 - loss: 0.0036 - mape: 96.1091 - mse: 0.0067\n",
      "Epoch 58/100\n",
      "\u001b[1m468/468\u001b[0m \u001b[32m━━━━━━━━━━━━━━━━━━━━\u001b[0m\u001b[37m\u001b[0m \u001b[1m1s\u001b[0m 1ms/step - accuracy: 0.0038 - loss: 0.0038 - mape: 95.8384 - mse: 0.0064\n",
      "Epoch 59/100\n",
      "\u001b[1m468/468\u001b[0m \u001b[32m━━━━━━━━━━━━━━━━━━━━\u001b[0m\u001b[37m\u001b[0m \u001b[1m1s\u001b[0m 1ms/step - accuracy: 8.8852e-04 - loss: 0.0036 - mape: 94.5569 - mse: 0.0069\n",
      "Epoch 60/100\n",
      "\u001b[1m468/468\u001b[0m \u001b[32m━━━━━━━━━━━━━━━━━━━━\u001b[0m\u001b[37m\u001b[0m \u001b[1m1s\u001b[0m 1ms/step - accuracy: 3.0723e-04 - loss: 0.0030 - mape: 97.5294 - mse: 0.0054\n",
      "Epoch 61/100\n",
      "\u001b[1m468/468\u001b[0m \u001b[32m━━━━━━━━━━━━━━━━━━━━\u001b[0m\u001b[37m\u001b[0m \u001b[1m1s\u001b[0m 1ms/step - accuracy: 6.3547e-04 - loss: 0.0047 - mape: 89.9047 - mse: 0.0093\n",
      "Epoch 62/100\n",
      "\u001b[1m468/468\u001b[0m \u001b[32m━━━━━━━━━━━━━━━━━━━━\u001b[0m\u001b[37m\u001b[0m \u001b[1m1s\u001b[0m 1ms/step - accuracy: 4.9347e-04 - loss: 0.0039 - mape: 92.1794 - mse: 0.0074\n",
      "Epoch 63/100\n",
      "\u001b[1m468/468\u001b[0m \u001b[32m━━━━━━━━━━━━━━━━━━━━\u001b[0m\u001b[37m\u001b[0m \u001b[1m1s\u001b[0m 1ms/step - accuracy: 4.3141e-04 - loss: 0.0038 - mape: 88.6219 - mse: 0.0075\n",
      "Epoch 64/100\n",
      "\u001b[1m468/468\u001b[0m \u001b[32m━━━━━━━━━━━━━━━━━━━━\u001b[0m\u001b[37m\u001b[0m \u001b[1m1s\u001b[0m 1ms/step - accuracy: 0.0040 - loss: 0.0037 - mape: 92.6649 - mse: 0.0072\n",
      "Epoch 65/100\n",
      "\u001b[1m468/468\u001b[0m \u001b[32m━━━━━━━━━━━━━━━━━━━━\u001b[0m\u001b[37m\u001b[0m \u001b[1m1s\u001b[0m 1ms/step - accuracy: 3.3361e-04 - loss: 0.0033 - mape: 93.2917 - mse: 0.0058\n",
      "Epoch 66/100\n",
      "\u001b[1m468/468\u001b[0m \u001b[32m━━━━━━━━━━━━━━━━━━━━\u001b[0m\u001b[37m\u001b[0m \u001b[1m1s\u001b[0m 3ms/step - accuracy: 0.0022 - loss: 0.0029 - mape: 87.6169 - mse: 0.0052\n",
      "Epoch 67/100\n",
      "\u001b[1m468/468\u001b[0m \u001b[32m━━━━━━━━━━━━━━━━━━━━\u001b[0m\u001b[37m\u001b[0m \u001b[1m1s\u001b[0m 1ms/step - accuracy: 3.7653e-04 - loss: 0.0040 - mape: 93.7089 - mse: 0.0077\n",
      "Epoch 68/100\n",
      "\u001b[1m468/468\u001b[0m \u001b[32m━━━━━━━━━━━━━━━━━━━━\u001b[0m\u001b[37m\u001b[0m \u001b[1m1s\u001b[0m 1ms/step - accuracy: 0.0043 - loss: 0.0034 - mape: 93.4881 - mse: 0.0064\n",
      "Epoch 69/100\n",
      "\u001b[1m468/468\u001b[0m \u001b[32m━━━━━━━━━━━━━━━━━━━━\u001b[0m\u001b[37m\u001b[0m \u001b[1m1s\u001b[0m 1ms/step - accuracy: 9.3729e-04 - loss: 0.0039 - mape: 89.4601 - mse: 0.0080\n",
      "Epoch 70/100\n",
      "\u001b[1m468/468\u001b[0m \u001b[32m━━━━━━━━━━━━━━━━━━━━\u001b[0m\u001b[37m\u001b[0m \u001b[1m1s\u001b[0m 1ms/step - accuracy: 0.0099 - loss: 0.0033 - mape: 90.9317 - mse: 0.0066\n",
      "Epoch 71/100\n",
      "\u001b[1m468/468\u001b[0m \u001b[32m━━━━━━━━━━━━━━━━━━━━\u001b[0m\u001b[37m\u001b[0m \u001b[1m1s\u001b[0m 1ms/step - accuracy: 3.6572e-04 - loss: 0.0039 - mape: 112.3213 - mse: 0.0071\n",
      "Epoch 72/100\n",
      "\u001b[1m468/468\u001b[0m \u001b[32m━━━━━━━━━━━━━━━━━━━━\u001b[0m\u001b[37m\u001b[0m \u001b[1m1s\u001b[0m 1ms/step - accuracy: 7.4854e-04 - loss: 0.0031 - mape: 92.6522 - mse: 0.0062\n",
      "Epoch 73/100\n",
      "\u001b[1m468/468\u001b[0m \u001b[32m━━━━━━━━━━━━━━━━━━━━\u001b[0m\u001b[37m\u001b[0m \u001b[1m1s\u001b[0m 1ms/step - accuracy: 0.0011 - loss: 0.0038 - mape: 92.9854 - mse: 0.0075  \n",
      "Epoch 74/100\n",
      "\u001b[1m468/468\u001b[0m \u001b[32m━━━━━━━━━━━━━━━━━━━━\u001b[0m\u001b[37m\u001b[0m \u001b[1m1s\u001b[0m 1ms/step - accuracy: 0.0020 - loss: 0.0024 - mape: 88.1722 - mse: 0.0045\n",
      "Epoch 75/100\n",
      "\u001b[1m468/468\u001b[0m \u001b[32m━━━━━━━━━━━━━━━━━━━━\u001b[0m\u001b[37m\u001b[0m \u001b[1m1s\u001b[0m 1ms/step - accuracy: 8.1405e-04 - loss: 0.0045 - mape: 93.1451 - mse: 0.0084\n",
      "Epoch 76/100\n",
      "\u001b[1m468/468\u001b[0m \u001b[32m━━━━━━━━━━━━━━━━━━━━\u001b[0m\u001b[37m\u001b[0m \u001b[1m1s\u001b[0m 1ms/step - accuracy: 5.1649e-04 - loss: 0.0042 - mape: 88.9933 - mse: 0.0080\n",
      "Epoch 77/100\n",
      "\u001b[1m468/468\u001b[0m \u001b[32m━━━━━━━━━━━━━━━━━━━━\u001b[0m\u001b[37m\u001b[0m \u001b[1m1s\u001b[0m 1ms/step - accuracy: 5.2228e-04 - loss: 0.0033 - mape: 90.1283 - mse: 0.0061\n",
      "Epoch 78/100\n",
      "\u001b[1m468/468\u001b[0m \u001b[32m━━━━━━━━━━━━━━━━━━━━\u001b[0m\u001b[37m\u001b[0m \u001b[1m1s\u001b[0m 1ms/step - accuracy: 0.0012 - loss: 0.0037 - mape: 90.2097 - mse: 0.0065\n",
      "Epoch 79/100\n",
      "\u001b[1m468/468\u001b[0m \u001b[32m━━━━━━━━━━━━━━━━━━━━\u001b[0m\u001b[37m\u001b[0m \u001b[1m1s\u001b[0m 1ms/step - accuracy: 0.0034 - loss: 0.0046 - mape: 92.4895 - mse: 0.0089\n",
      "Epoch 80/100\n",
      "\u001b[1m468/468\u001b[0m \u001b[32m━━━━━━━━━━━━━━━━━━━━\u001b[0m\u001b[37m\u001b[0m \u001b[1m1s\u001b[0m 1ms/step - accuracy: 0.0023 - loss: 0.0039 - mape: 95.9013 - mse: 0.0075\n",
      "Epoch 81/100\n",
      "\u001b[1m468/468\u001b[0m \u001b[32m━━━━━━━━━━━━━━━━━━━━\u001b[0m\u001b[37m\u001b[0m \u001b[1m1s\u001b[0m 1ms/step - accuracy: 0.0021 - loss: 0.0027 - mape: 90.4202 - mse: 0.0050\n",
      "Epoch 82/100\n",
      "\u001b[1m468/468\u001b[0m \u001b[32m━━━━━━━━━━━━━━━━━━━━\u001b[0m\u001b[37m\u001b[0m \u001b[1m1s\u001b[0m 1ms/step - accuracy: 0.0013 - loss: 0.0029 - mape: 91.3204 - mse: 0.0055\n",
      "Epoch 83/100\n",
      "\u001b[1m468/468\u001b[0m \u001b[32m━━━━━━━━━━━━━━━━━━━━\u001b[0m\u001b[37m\u001b[0m \u001b[1m1s\u001b[0m 1ms/step - accuracy: 0.0022 - loss: 0.0030 - mape: 90.2272 - mse: 0.0054\n",
      "Epoch 84/100\n",
      "\u001b[1m468/468\u001b[0m \u001b[32m━━━━━━━━━━━━━━━━━━━━\u001b[0m\u001b[37m\u001b[0m \u001b[1m1s\u001b[0m 1ms/step - accuracy: 3.7112e-04 - loss: 0.0037 - mape: 92.9187 - mse: 0.0070\n",
      "Epoch 85/100\n",
      "\u001b[1m468/468\u001b[0m \u001b[32m━━━━━━━━━━━━━━━━━━━━\u001b[0m\u001b[37m\u001b[0m \u001b[1m1s\u001b[0m 1ms/step - accuracy: 2.5541e-04 - loss: 0.0043 - mape: 91.4933 - mse: 0.0084\n",
      "Epoch 86/100\n",
      "\u001b[1m468/468\u001b[0m \u001b[32m━━━━━━━━━━━━━━━━━━━━\u001b[0m\u001b[37m\u001b[0m \u001b[1m1s\u001b[0m 1ms/step - accuracy: 0.0011 - loss: 0.0027 - mape: 91.7037 - mse: 0.0049    \n",
      "Epoch 87/100\n",
      "\u001b[1m468/468\u001b[0m \u001b[32m━━━━━━━━━━━━━━━━━━━━\u001b[0m\u001b[37m\u001b[0m \u001b[1m1s\u001b[0m 1ms/step - accuracy: 0.0057 - loss: 0.0028 - mape: 90.5802 - mse: 0.0051\n",
      "Epoch 88/100\n",
      "\u001b[1m468/468\u001b[0m \u001b[32m━━━━━━━━━━━━━━━━━━━━\u001b[0m\u001b[37m\u001b[0m \u001b[1m1s\u001b[0m 1ms/step - accuracy: 0.0013 - loss: 0.0035 - mape: 92.0157 - mse: 0.0060\n",
      "Epoch 89/100\n",
      "\u001b[1m468/468\u001b[0m \u001b[32m━━━━━━━━━━━━━━━━━━━━\u001b[0m\u001b[37m\u001b[0m \u001b[1m1s\u001b[0m 1ms/step - accuracy: 0.0023 - loss: 0.0029 - mape: 87.6199 - mse: 0.0054\n",
      "Epoch 90/100\n",
      "\u001b[1m468/468\u001b[0m \u001b[32m━━━━━━━━━━━━━━━━━━━━\u001b[0m\u001b[37m\u001b[0m \u001b[1m1s\u001b[0m 3ms/step - accuracy: 0.0037 - loss: 0.0035 - mape: 92.0150 - mse: 0.0065\n",
      "Epoch 91/100\n",
      "\u001b[1m468/468\u001b[0m \u001b[32m━━━━━━━━━━━━━━━━━━━━\u001b[0m\u001b[37m\u001b[0m \u001b[1m1s\u001b[0m 1ms/step - accuracy: 8.4758e-04 - loss: 0.0029 - mape: 88.1144 - mse: 0.0051\n",
      "Epoch 92/100\n",
      "\u001b[1m468/468\u001b[0m \u001b[32m━━━━━━━━━━━━━━━━━━━━\u001b[0m\u001b[37m\u001b[0m \u001b[1m1s\u001b[0m 1ms/step - accuracy: 3.6654e-05 - loss: 0.0038 - mape: 88.6936 - mse: 0.0072\n",
      "Epoch 93/100\n",
      "\u001b[1m468/468\u001b[0m \u001b[32m━━━━━━━━━━━━━━━━━━━━\u001b[0m\u001b[37m\u001b[0m \u001b[1m1s\u001b[0m 1ms/step - accuracy: 8.2740e-04 - loss: 0.0045 - mape: 96.6083 - mse: 0.0084\n",
      "Epoch 94/100\n",
      "\u001b[1m468/468\u001b[0m \u001b[32m━━━━━━━━━━━━━━━━━━━━\u001b[0m\u001b[37m\u001b[0m \u001b[1m1s\u001b[0m 1ms/step - accuracy: 0.0033 - loss: 0.0032 - mape: 89.0918 - mse: 0.0061\n",
      "Epoch 95/100\n",
      "\u001b[1m468/468\u001b[0m \u001b[32m━━━━━━━━━━━━━━━━━━━━\u001b[0m\u001b[37m\u001b[0m \u001b[1m1s\u001b[0m 1ms/step - accuracy: 7.3568e-04 - loss: 0.0031 - mape: 90.9924 - mse: 0.0056\n",
      "Epoch 96/100\n",
      "\u001b[1m468/468\u001b[0m \u001b[32m━━━━━━━━━━━━━━━━━━━━\u001b[0m\u001b[37m\u001b[0m \u001b[1m1s\u001b[0m 1ms/step - accuracy: 1.6520e-04 - loss: 0.0034 - mape: 93.7635 - mse: 0.0065\n",
      "Epoch 97/100\n",
      "\u001b[1m468/468\u001b[0m \u001b[32m━━━━━━━━━━━━━━━━━━━━\u001b[0m\u001b[37m\u001b[0m \u001b[1m1s\u001b[0m 1ms/step - accuracy: 8.6795e-04 - loss: 0.0032 - mape: 90.3815 - mse: 0.0061\n",
      "Epoch 98/100\n",
      "\u001b[1m468/468\u001b[0m \u001b[32m━━━━━━━━━━━━━━━━━━━━\u001b[0m\u001b[37m\u001b[0m \u001b[1m1s\u001b[0m 1ms/step - accuracy: 2.0482e-04 - loss: 0.0036 - mape: 91.9305 - mse: 0.0064\n",
      "Epoch 99/100\n",
      "\u001b[1m468/468\u001b[0m \u001b[32m━━━━━━━━━━━━━━━━━━━━\u001b[0m\u001b[37m\u001b[0m \u001b[1m1s\u001b[0m 1ms/step - accuracy: 2.6053e-04 - loss: 0.0035 - mape: 86.5207 - mse: 0.0068\n",
      "Epoch 100/100\n",
      "\u001b[1m468/468\u001b[0m \u001b[32m━━━━━━━━━━━━━━━━━━━━\u001b[0m\u001b[37m\u001b[0m \u001b[1m1s\u001b[0m 1ms/step - accuracy: 4.5915e-05 - loss: 0.0038 - mape: 97.0608 - mse: 0.0074\n",
      "CPU times: user 59.6 s, sys: 11.2 s, total: 1min 10s\n",
      "Wall time: 56.8 s\n"
     ]
    }
   ],
   "source": [
    "%%time\n",
    "hist = model.fit(\n",
    "            X_train,\n",
    "            y_train,\n",
    "            batch_size=1,\n",
    "            epochs=epochs,\n",
    "            verbose=verbose,\n",
    "            callbacks=[TB_callback, EarlyStopping(monitor=monitor, min_delta=min_delta, patience=patience)]\n",
    "        )\n"
   ]
  },
  {
   "cell_type": "code",
   "execution_count": 19,
   "id": "319b4c99-db04-4854-b03a-123660617c06",
   "metadata": {},
   "outputs": [
    {
     "name": "stdout",
     "output_type": "stream",
     "text": [
      "\u001b[1m2/2\u001b[0m \u001b[32m━━━━━━━━━━━━━━━━━━━━\u001b[0m\u001b[37m\u001b[0m \u001b[1m0s\u001b[0m 76ms/step\n"
     ]
    },
    {
     "data": {
      "text/plain": [
       "(52, 1, 100)"
      ]
     },
     "execution_count": 19,
     "metadata": {},
     "output_type": "execute_result"
    }
   ],
   "source": [
    "y_ = model.predict(X_test.astype(np.float32))\n",
    "\n",
    "predicted = np.stack([model(X_test.astype(np.float32), training =True) for i in range(100)], axis=2)\n",
    "\n",
    "\n",
    "predicted.shape"
   ]
  },
  {
   "cell_type": "code",
   "execution_count": 20,
   "id": "df067611-9364-40b1-97f9-86565517ee7f",
   "metadata": {},
   "outputs": [],
   "source": [
    "df_pred = pd.DataFrame(np.percentile(predicted, 50, axis=2))\n",
    "df_pred25 = pd.DataFrame(np.percentile(predicted, 2.5, axis=2))\n",
    "df_pred975 = pd.DataFrame(np.percentile(predicted, 97.5, axis=2))\n"
   ]
  },
  {
   "cell_type": "code",
   "execution_count": 21,
   "id": "d29d4445-dcda-4d74-9937-e72a26948104",
   "metadata": {},
   "outputs": [
    {
     "data": {
      "image/png": "[encoded data removed]",
      "text/plain": [
       "<Figure size 640x480 with 1 Axes>"
      ]
     },
     "metadata": {},
     "output_type": "display_data"
    }
   ],
   "source": [
    "fig, ax = plt.subplots()\n",
    "\n",
    "ax.plot(y_test, label = 'Data')\n",
    "\n",
    "ax.plot(df_pred, label = 'preds')\n",
    "\n",
    "ax.fill_between( np.arange(0, 52), df_pred25.values.reshape(1,-1)[0], df_pred975.values.reshape(1,-1)[0], color = 'tab:orange', alpha = 0.2)\n",
    "plt.show()"
   ]
  },
  {
   "cell_type": "code",
   "execution_count": 22,
   "id": "d4f5c5a4-a8b6-4d6c-a3f3-1340de0fb070",
   "metadata": {},
   "outputs": [],
   "source": [
    "model.save(f\"models/base_dengue_MG_2023.keras\")"
   ]
  },
  {
   "cell_type": "code",
   "execution_count": null,
   "id": "ddf4d399-7d87-4cb4-af3f-ced2aa2bd0c1",
   "metadata": {},
   "outputs": [],
   "source": []
  }
 ],
 "metadata": {
  "kernelspec": {
   "display_name": "Python 3 (ipykernel)",
   "language": "python",
   "name": "python3"
  },
  "language_info": {
   "codemirror_mode": {
    "name": "ipython",
    "version": 3
   },
   "file_extension": ".py",
   "mimetype": "text/x-python",
   "name": "python",
   "nbconvert_exporter": "python",
   "pygments_lexer": "ipython3",
   "version": "3.10.8"
  }
 },
 "nbformat": 4,
 "nbformat_minor": 5
}
